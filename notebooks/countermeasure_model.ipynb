{
 "cells": [
  {
   "cell_type": "code",
   "execution_count": 1,
   "metadata": {},
   "outputs": [],
   "source": [
    "import datetime\n",
    "import io\n",
    "import logging\n",
    "\n",
    "import dateutil\n",
    "import datetime\n",
    "import numpy as np\n",
    "import pandas as pd\n",
    "import pymc3 as pm\n",
    "import theano\n",
    "import theano.tensor as T\n",
    "\n",
    "logging.basicConfig(level=logging.INFO)\n",
    "log = logging.getLogger(__name__)\n",
    "\n",
    "import warnings\n",
    "warnings.simplefilter(\"ignore\")\n",
    "warnings.simplefilter(action='ignore', category=FutureWarning)"
   ]
  },
  {
   "cell_type": "code",
   "execution_count": 2,
   "metadata": {},
   "outputs": [],
   "source": [
    "### Mock parameters\n",
    "\n",
    "if 0:\n",
    "    # Countermeasures\n",
    "    CMs = [\"Stay home\", \"Respirators\"]\n",
    "    nCMs = len(CMs)\n",
    "    # Countries\n",
    "    Cs = [\"CZ\", \"SK\", \"DE\", \"PL\"]\n",
    "    nCs = len(Cs)\n",
    "    # Days\n",
    "    Ds = [f\"03-{i}\" for i in range(10, 21)]\n",
    "    nDs = len(Ds)\n",
    "\n",
    "    # Probability of testing positive after transmission, from 0\n",
    "    DelayProb = [0.1 for i in range(10)]\n",
    "\n",
    "    ### Mock input data\n",
    "\n",
    "    # [country, CM, day] Which CMs are active, and to what extent\n",
    "    ActiveCMs = np.random.exponential(0.2, size=(nCs, nCMs, nDs)).astype(theano.config.floatX)\n",
    "\n",
    "    # Mock growth rate [country, day]\n",
    "    grate = np.random.lognormal(0.2, 0.2, size=(nCs, nDs))\n",
    "    # cummulation of the daily rates * measurememt error\n",
    "    Confirmed = np.cumprod(grate, axis=1) * np.random.lognormal(0.0, 0.3, size=(nCs, nDs)).astype(theano.config.floatX)\n",
    "    #Confirmed[:,7] = np.nan"
   ]
  },
  {
   "cell_type": "code",
   "execution_count": 4,
   "metadata": {},
   "outputs": [
    {
     "name": "stderr",
     "output_type": "stream",
     "text": [
      "[2020-04-01 01:37:48,735] INFO(epimodel.region_data): Name index has 6 potential conflicts: ['american samoa', 'georgia', 'guam', 'northern mariana islands', 'puerto rico', 'united states minor outlying islands']\n",
      "[2020-04-01 01:37:48,737] INFO(epimodel.region_data): Loading group JH from ../data/data-JH.csv ...\n",
      "[2020-04-01 01:37:48,987] INFO(epimodel.region_data): Loading group SCM from ../data/data-SCM.csv ...\n"
     ]
    },
    {
     "name": "stdout",
     "output_type": "stream",
     "text": [
      "{'basic': ['Level', 'Name', 'OfficialName', 'OtherNames', 'Continent', 'Subregion', 'Country', 'ISOa3', 'M49Code', 'Lat', 'Lon', 'Population'], 'JH': {'JH_Active', 'JH_Confirmed', 'JH_Recovered', 'JH_Deaths'}, 'SCM': {'Asymptomatic isolation - blanket', 'Diagnostic criteria loosened', 'Mask wearing', 'Testing', 'Miscellaneous hygiene measures', 'Contact tracing', 'Nonessential business suspension', 'International travel restriction', 'Symptomatic isolation - blanket', 'Asymptomatic isolation - targeted', 'Assisting people to stay home', 'Asymptomatic isolation - semi-targeted', 'Diagnostic criteria tightened', 'Symptomatic isolation - semi-targeted', 'Public education and incentives', 'School closure', 'Symptomatic isolation - targeted', 'Domestic travel restriction', 'Gatherings banned', 'Resumption', 'Testing criteria', 'Public cleaning', 'Healthcare specialisation', 'Activity cancellation', 'Public interaction reduction', 'Hand washing'}}\n"
     ]
    }
   ],
   "source": [
    "from epimodel.region_data import RegionDataset\n",
    "rds = RegionDataset.from_csv('../data/regions.csv')\n",
    "rds.read_csv_groups('../data/data')\n",
    "print(rds.col_groups)"
   ]
  },
  {
   "cell_type": "code",
   "execution_count": 5,
   "metadata": {},
   "outputs": [
    {
     "name": "stderr",
     "output_type": "stream",
     "text": [
      "[2020-04-01 01:37:52,306] INFO(numexpr.utils): NumExpr defaulting to 4 threads.\n"
     ]
    },
    {
     "name": "stdout",
     "output_type": "stream",
     "text": [
      "Asymptomatic isolation - semi , 0.000, 0.039, 5.000\n",
      "International travel restrict , 0.000, 0.999, 6.000\n",
      "School closure                , 0.000, 0.386, 18.000\n",
      "Healthcare specialisation     , 0.000, 0.067, 8.000\n",
      "Resumption                    , 0.000, 0.002, 1.000\n",
      "Asymptomatic isolation - targ , 0.000, 0.011, 1.000\n",
      "Assisting people to stay home , 0.000, 0.072, 8.000\n",
      "Diagnostic criteria tightened , 0.000, 0.004, 1.000\n",
      "Public cleaning               , 0.000, 0.022, 5.000\n",
      "Asymptomatic isolation - blan , 0.000, 0.091, 3.000\n",
      "Public interaction reduction  , 0.000, 0.018, 4.000\n",
      "Domestic travel restriction   , 0.000, 0.025, 2.000\n",
      "Symptomatic isolation - targe , 0.000, 0.232, 2.000\n",
      "Nonessential business suspens , 0.000, 0.174, 9.000\n",
      "Mask wearing                  , 0.000, 0.195, 100.000\n",
      "Public education and incentiv , 0.000, 0.062, 7.000\n",
      "Activity cancellation         , 0.000, 0.269, 17.000\n",
      "Testing criteria              , 0.000, 0.006, 0.900\n",
      "Symptomatic isolation - blank , 0.000, 0.018, 2.000\n"
     ]
    }
   ],
   "source": [
    "### Real params and data\n",
    "\n",
    "if 1:\n",
    "    # Countermeasures\n",
    "    CMs = ['Asymptomatic isolation - semi-targeted', 'International travel restriction', 'School closure', 'Healthcare specialisation', 'Resumption', 'Asymptomatic isolation - targeted', 'Assisting people to stay home', 'Diagnostic criteria tightened', 'Public cleaning', 'Asymptomatic isolation - blanket', 'Public interaction reduction', 'Domestic travel restriction', 'Symptomatic isolation - targeted', 'Nonessential business suspension', 'Mask wearing', 'Public education and incentives', 'Activity cancellation', 'Testing criteria', 'Symptomatic isolation - blanket']\n",
    "    #CMS += ['Gatherings banned', 'Contact tracing', 'Testing']\n",
    "    nCMs = len(CMs)\n",
    "    # Countries\n",
    "    Cs = [\"DK\", \"CZ\", \"GE\", \"FR\", \"ES\", \"GB\", \"PL\", \"GR\", \"CH\", \"BE\", \"FI\", \"HU\", \"NO\", \"RO\", \"SE\", \"SI\", \"SK\"]\n",
    "    nCs = len(Cs)\n",
    "    # Days\n",
    "    FullDs = [datetime.date(2020,2,i) for i in range(20, 30)] + [datetime.date(2020,3,i) for i in range(1, 29)]\n",
    "    # HACK: Assume fixed 7 days to CM effect\n",
    "    CM_Ds = FullDs[:-7]\n",
    "    JH_Ds = FullDs[7:]\n",
    "    JHName = \"JH_Confirmed\"\n",
    "    # Deaths!\n",
    "    CM_Ds = FullDs[:-14]\n",
    "    JH_Ds = FullDs[14:]\n",
    "    JHName = \"JH_Deaths\"\n",
    "\n",
    "    nDs = len(CM_Ds)\n",
    "\n",
    "    # Probability of testing positive after transmission, from 0\n",
    "    DelayProb = [0.00, 0.01, 0.02, 0.05, 0.09, 0.13, 0.15, 0.15, 0.13, 0.10, 0.07, 0.05, 0.03, 0.01, 0.01]\n",
    "\n",
    "    # [country, CM, day] Which CMs are active, and to what extent\n",
    "    sd = rds.series.loc[Cs, CMs]\n",
    "    for cm in CMs:\n",
    "        d = rds.series[cm]\n",
    "        print(f\"{cm[:29]:30}, {d.min().min():.3f}, {d.mean().mean():.3f}, {d.max().max():.3f}\")\n",
    "        rds.series[cm] /= d.max().max()\n",
    "    ActiveCMs = np.stack([sd.loc[Cs, [(cm, d) for d in CM_Ds]].values for cm in CMs], axis=1)\n",
    "    assert ActiveCMs.shape == (nCs, nCMs, nDs)\n",
    "    ActiveCMs = ActiveCMs.astype(theano.config.floatX)\n",
    "\n",
    "    # [country, day]\n",
    "    Confirmed = rds.series.loc[tuple(Cs), [(JHName, d) for d in JH_Ds]].values\n",
    "    assert Confirmed.shape == (nCs, nDs)\n",
    "    Confirmed[Confirmed < 5.0] = np.nan\n",
    "    Confirmed = np.ma.masked_invalid(Confirmed.astype(theano.config.floatX))\n"
   ]
  },
  {
   "cell_type": "code",
   "execution_count": 6,
   "metadata": {},
   "outputs": [],
   "source": [
    "with pm.Model() as model:\n",
    "    # [] Baseline growth rate (wide prior OK, mean estimates ~10% daily growth)\n",
    "    BaseGrowthRate = pm.Lognormal(\"BaseGrowthRate\", np.log(1.1), 2.0)\n",
    "    # [country] Initial size of epidemic (the day before the start, only those detected; wide prior OK)\n",
    "    InitialSize = pm.Lognormal(\"InitialSize\", 0.0, 10, shape=(nCs,))\n",
    "    # [country] Country growth rate\n",
    "    # TODO: Estimate growth rate variance\n",
    "    CountryGrowthRate = pm.Lognormal(\"CountryGrowthRate\", pm.math.log(BaseGrowthRate), 0.2, shape=(nCs,))\n",
    "    # [CM] How much countermeasures reduce growth rate\n",
    "    # TODO: Estimate variance, or use another dist.\n",
    "    #CMReduction = pm.Bound(pm.Lognormal, upper=1.0)(\"CMReduction\", 0.0, 0.1, shape=(nCMs,))\n",
    "    CMReduction = pm.Lognormal(\"CMReduction\", 0.0, 0.1, shape=(nCMs,))\n",
    "    # [country, CM, day] Reduction factor for each CM,C,D\n",
    "    ActiveCMReduction = T.reshape(CMReduction, (1, nCMs, 1)) ** ActiveCMs\n",
    "    # [country, day] Reduction factor from CMs for each C,D (noise added below)\n",
    "    GrowthReduction = pm.Deterministic(\"GrowthReduction\", T.prod(ActiveCMReduction, axis=1))\n",
    "    # [country, day] The ideal predicted daily growth\n",
    "    PreictedGrowth = pm.Deterministic(\"PreictedGrowth\", T.reshape(CountryGrowthRate, (nCs, 1)) * GrowthReduction)\n",
    "    # [country, day] The actual (still hidden) growth each day\n",
    "    # TODO: Estimate noise varince (should be small, measurement variance below)\n",
    "    #       Miscalibration: too low: time effects pushed into CMs, too high: explains away CMs\n",
    "    DailyGrowth =  pm.Lognormal(\"DailyGrowth\", pm.math.log(PreictedGrowth), 0.1, shape=(nCs, nDs))\n",
    "\n",
    "    # Below I assume plain exponentia growth of confirmed rather than e.g. depending on actives etc.\n",
    "\n",
    "    # [country, day] The number of cases that would be detected with noiseless testing\n",
    "    # (Noise source includes both false-P/N rates and local variance in test volume and targetting)\n",
    "    # (Since we ony care about growth rates and assume consistent testing, it is fine to ignore real size)\n",
    "    Size = pm.Deterministic(\"Size\", T.reshape(InitialSize, (nCs, 1)) * DailyGrowth.cumprod(axis=1))\n",
    "    # [country, day] Cummulative tested positives\n",
    "    Observed = pm.Lognormal(\"Observed\", pm.math.log(Size), 0.4, shape=(nCs, nDs), observed=Confirmed)\n"
   ]
  },
  {
   "cell_type": "code",
   "execution_count": null,
   "metadata": {},
   "outputs": [],
   "source": []
  },
  {
   "cell_type": "code",
   "execution_count": null,
   "metadata": {},
   "outputs": [
    {
     "name": "stderr",
     "output_type": "stream",
     "text": [
      "[2020-04-01 01:37:57,183] INFO(pymc3): Auto-assigning NUTS sampler...\n",
      "[2020-04-01 01:37:57,184] INFO(pymc3): Initializing NUTS using adapt_diag...\n"
     ]
    },
    {
     "name": "stdout",
     "output_type": "stream",
     "text": [
      "BaseGrowthRate_log__         -1.61\n",
      "InitialSize_log__           -54.77\n",
      "CountryGrowthRate_log__      11.74\n",
      "CMReduction_log__            26.29\n",
      "DailyGrowth_log__           564.53\n",
      "Observed_missing              0.00\n",
      "Observed                  -5176.18\n",
      "Name: Log-probability of test_point, dtype: float64\n"
     ]
    },
    {
     "name": "stderr",
     "output_type": "stream",
     "text": [
      "[2020-04-01 01:38:00,269] INFO(pymc3): Multiprocess sampling (2 chains in 4 jobs)\n",
      "[2020-04-01 01:38:00,270] INFO(pymc3): NUTS: [Observed_missing, DailyGrowth, CMReduction, CountryGrowthRate, InitialSize, BaseGrowthRate]\n",
      "Sampling 2 chains, 0 divergences:   3%|▎         | 123/4000 [00:09<07:09,  9.03draws/s]"
     ]
    }
   ],
   "source": [
    "print(model.check_test_point())\n",
    "with model:\n",
    "    trace = pm.sample(1000, chains=2, cores=4, init='adapt_diag', tune=1000)"
   ]
  },
  {
   "cell_type": "code",
   "execution_count": null,
   "metadata": {},
   "outputs": [],
   "source": [
    "pm.traceplot(trace, var_names=[\"BaseGrowthRate\", \"CountryGrowthRate\", \"DailyGrowth\", \"CMReduction\"])"
   ]
  },
  {
   "cell_type": "code",
   "execution_count": null,
   "metadata": {},
   "outputs": [],
   "source": [
    "pm.forestplot(trace, varnames=['CMReduction'], credible_interval=0.9)\n",
    "print(', '.join(f\"{i}: {c}\" for i, c in enumerate(CMs)))"
   ]
  },
  {
   "cell_type": "code",
   "execution_count": null,
   "metadata": {},
   "outputs": [],
   "source": []
  },
  {
   "cell_type": "code",
   "execution_count": null,
   "metadata": {},
   "outputs": [],
   "source": []
  },
  {
   "cell_type": "code",
   "execution_count": null,
   "metadata": {},
   "outputs": [],
   "source": []
  },
  {
   "cell_type": "code",
   "execution_count": null,
   "metadata": {},
   "outputs": [],
   "source": []
  }
 ],
 "metadata": {
  "kernelspec": {
   "display_name": "Python 3",
   "language": "python",
   "name": "python3"
  },
  "language_info": {
   "codemirror_mode": {
    "name": "ipython",
    "version": 3
   },
   "file_extension": ".py",
   "mimetype": "text/x-python",
   "name": "python",
   "nbconvert_exporter": "python",
   "pygments_lexer": "ipython3",
   "version": "3.7.5"
  }
 },
 "nbformat": 4,
 "nbformat_minor": 4
}
