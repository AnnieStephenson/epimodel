{
 "cells": [
  {
   "cell_type": "code",
   "execution_count": 1,
   "metadata": {},
   "outputs": [],
   "source": [
    "import numpy as np\n",
    "import matplotlib.pyplot as plt\n",
    "import matplotlib\n",
    "\n",
    "%matplotlib inline"
   ]
  },
  {
   "cell_type": "markdown",
   "metadata": {},
   "source": [
    "# infected to death\n",
    "See https://www.imperial.ac.uk/media/imperial-college/medicine/mrc-gida/2020-03-30-COVID19-Report-13.pdf We have, mean and cov $Gamma(5.1, 0.86)$ (incubation period) and $Gamma(18.8, 0.45)$ (onset-to-death)."
   ]
  },
  {
   "cell_type": "code",
   "execution_count": 2,
   "metadata": {},
   "outputs": [],
   "source": [
    "def gamma_mu_cov_to_shape_scale(mu, cov):\n",
    "    shape = 1/(cov**2)\n",
    "    scale = mu * (cov**2)\n",
    "    return shape, scale"
   ]
  },
  {
   "cell_type": "code",
   "execution_count": 3,
   "metadata": {},
   "outputs": [
    {
     "name": "stdout",
     "output_type": "stream",
     "text": [
      "Binned As [-1.   0.   1.5  2.5  3.5  4.5  5.5  6.5  7.5  8.5  9.5 10.5 11.5 12.5\n",
      " 13.5 14.5 15.5 16.5 17.5 18.5 19.5 20.5 21.5 22.5 23.5 24.5 25.5 26.5\n",
      " 27.5 28.5 29.5 30.5 31.5 32.5 33.5 34.5 35.5 36.5 37.5 38.5 39.5 40.5\n",
      " 41.5 42.5 43.5 44.5 45.5 46.5 47.5 48.5 49.5 50.5 51.5 52.5 53.5 54.5\n",
      " 55.5 56.5 57.5 58.5 59.5 60.5 61.5 62.5 63.5 64.5]\n",
      "Expectation: 23.84245029857717\n",
      "True Mean: 23.8993552099586\n",
      "Delay Prob: [0.00000000e+00 1.57929968e-06 3.03625924e-05 1.86457459e-04\n",
      " 6.24590779e-04 1.55150623e-03 3.09734032e-03 5.36262328e-03\n",
      " 8.32870378e-03 1.19147929e-02 1.60226626e-02 2.03275221e-02\n",
      " 2.47660993e-02 2.90561446e-02 3.30410847e-02 3.65631120e-02\n",
      " 3.95431615e-02 4.19373576e-02 4.35748356e-02 4.46156497e-02\n",
      " 4.49519182e-02 4.47437175e-02 4.39696271e-02 4.27410432e-02\n",
      " 4.11788378e-02 3.92831999e-02 3.71043781e-02 3.48662769e-02\n",
      " 3.24709575e-02 3.00531720e-02 2.76470311e-02 2.52315256e-02\n",
      " 2.29904215e-02 2.07827385e-02 1.87207070e-02 1.67529218e-02\n",
      " 1.49637977e-02 1.32906187e-02 1.17655157e-02 1.03643098e-02\n",
      " 9.10775452e-03 7.97862198e-03 6.96272078e-03 6.07072787e-03\n",
      " 5.25619850e-03 4.56576649e-03 3.93925164e-03 3.39589470e-03\n",
      " 2.92159319e-03 2.49491535e-03 2.13376733e-03 1.81656165e-03\n",
      " 1.55582150e-03 1.32725680e-03 1.12069107e-03 9.43776142e-04\n",
      " 8.06332582e-04 6.81334349e-04 5.67313361e-04 4.76414655e-04\n",
      " 4.02143083e-04 3.38292664e-04 2.84207211e-04 2.35805013e-04\n",
      " 1.98535765e-04]\n"
     ]
    },
    {
     "data": {
      "image/png": "[encoded data removed]",
      "text/plain": [
       "<Figure size 432x288 with 1 Axes>"
      ]
     },
     "metadata": {
      "needs_background": "light"
     },
     "output_type": "display_data"
    }
   ],
   "source": [
    "nRVs= int(9e7)\n",
    "shp1, scl1 = gamma_mu_cov_to_shape_scale(5.1, 0.86)\n",
    "shp2, scl2 = gamma_mu_cov_to_shape_scale(18.8, 0.45)\n",
    "samples = np.random.gamma(shape=shp1, scale=scl1, size=nRVs) + np.random.gamma(shape=shp2, scale=scl2, size=nRVs)\n",
    "bins = np.arange(-1, 65.0)\n",
    "bins[2:] += 0.5\n",
    "print(f\"Binned As {bins}\")\n",
    "\n",
    "n, _, _ = plt.hist(samples, bins);\n",
    "delay_prob = n / np.sum(n)\n",
    "print(f\"Expectation: {np.sum([(i) * delay_prob[i] for i in range(64)])}\")\n",
    "print(f\"True Mean: {np.mean(samples)}\")\n",
    "print(f\"Delay Prob: {delay_prob}\")"
   ]
  },
  {
   "cell_type": "markdown",
   "metadata": {},
   "source": [
    "# infected to confirmed\n",
    "See https://www.imperial.ac.uk/media/imperial-college/medicine/mrc-gida/2020-03-30-COVID19-Report-13.pdf We have, mean and cov $Gamma(5.1, 0.86)$ (incubation period). \n",
    "\n",
    "Then, the symptoms to confirmation period, see https://arxiv.org/ftp/arxiv/papers/2003/2003.09320.pdf. \n",
    "\n",
    "\"Negative binomial distribution to the data. We found that the best-fitting distribution has mean 5.25 and dispersion 1.57\"\n",
    "\n",
    "for the NB, the dispersion is exactly n (or r on wikipedia). We can then solve for p, but the numpy version seems to use 1-p."
   ]
  },
  {
   "cell_type": "code",
   "execution_count": null,
   "metadata": {},
   "outputs": [],
   "source": [
    "nRVs= int(9e7)\n",
    "samples =  np.random.negative_binomial(1.57, (1-0.7698),size=nRVs)\n",
    "bins = np.arange(0, 65.0)\n",
    "bins -= 0.1\n",
    "print(f\"Binned As {bins}\")\n",
    "\n",
    "n, _, _ = plt.hist(samples, bins);\n",
    "delay_prob = n / np.sum(n)\n",
    "print(f\"Expectation: {np.sum([(i) * delay_prob[i] for i in range(64)])}\")\n",
    "print(f\"True Mean: {np.mean(samples)}\")\n",
    "print(f\"Delay Prob: {delay_prob}\")"
   ]
  },
  {
   "cell_type": "markdown",
   "metadata": {},
   "source": [
    "There, add these distributions and sum."
   ]
  },
  {
   "cell_type": "code",
   "execution_count": null,
   "metadata": {},
   "outputs": [],
   "source": [
    "nRVs= int(9e7)\n",
    "shp1, scl1 = gamma_mu_cov_to_shape_scale(5.1, 0.86)\n",
    "samples = np.random.gamma(shape=shp1, scale=scl1, size=nRVs) + np.random.negative_binomial(1.57, (1-0.7698) size=nRVs)\n",
    "bins = np.arange(-1, 65.0)\n",
    "bins[2:] += 0.5\n",
    "print(f\"Binned As {bins}\")\n",
    "\n",
    "n, _, _ = plt.hist(samples, bins);\n",
    "delay_prob = n / np.sum(n)\n",
    "print(f\"Expectation: {np.sum([(i) * delay_prob[i] for i in range(64)])}\")\n",
    "print(f\"True Mean: {np.mean(samples)}\")\n",
    "print(f\"Delay Prob: {delay_prob}\")"
   ]
  }
 ],
 "metadata": {
  "kernelspec": {
   "display_name": "Python 3",
   "language": "python",
   "name": "python3"
  },
  "language_info": {
   "codemirror_mode": {
    "name": "ipython",
    "version": 3
   },
   "file_extension": ".py",
   "mimetype": "text/x-python",
   "name": "python",
   "nbconvert_exporter": "python",
   "pygments_lexer": "ipython3",
   "version": "3.7.4"
  }
 },
 "nbformat": 4,
 "nbformat_minor": 4
}
