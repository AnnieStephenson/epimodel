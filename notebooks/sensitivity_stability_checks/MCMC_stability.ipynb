{
 "cells": [
  {
   "cell_type": "markdown",
   "metadata": {},
   "source": [
    "# Validation: MCMC stability\n",
    "\n",
    "This notebook:\n",
    "\n",
    "* loads a library defined model. \n",
    "* loads the data according to the data preprocessor class.\n",
    "* plots the rhat statistic for the mcmc"
   ]
  },
  {
   "cell_type": "code",
   "execution_count": 1,
   "metadata": {},
   "outputs": [],
   "source": [
    "%load_ext autoreload\n",
    "%autoreload 2"
   ]
  },
  {
   "cell_type": "code",
   "execution_count": 2,
   "metadata": {},
   "outputs": [],
   "source": [
    "### Initial imports\n",
    "import logging\n",
    "import numpy as np\n",
    "import pandas as pd\n",
    "import pymc3 as pm\n",
    "import theano.tensor as T\n",
    "import matplotlib.pyplot as plt\n",
    "import arviz as az\n",
    "import seaborn as sns\n",
    "import scipy\n",
    "\n",
    "logging.basicConfig(level=logging.INFO)\n",
    "log = logging.getLogger(__name__)\n",
    "\n",
    "import warnings\n",
    "warnings.simplefilter(action='ignore', category=FutureWarning)\n",
    "\n",
    "from epimodel.pymc3_models.utils import geom_convolution\n",
    "from epimodel.pymc3_models import cm_effect\n",
    "from epimodel.pymc3_models.cm_effect.datapreprocessor import DataPreprocessor\n",
    "\n",
    "sns.set_style(\"ticks\")\n",
    "%matplotlib inline"
   ]
  },
  {
   "cell_type": "code",
   "execution_count": 3,
   "metadata": {
    "scrolled": false
   },
   "outputs": [
    {
     "name": "stderr",
     "output_type": "stream",
     "text": [
      "INFO:epimodel.pymc3_models.cm_effect.datapreprocessor:Dropping Healthcare Infection Control\n",
      "INFO:epimodel.pymc3_models.cm_effect.datapreprocessor:Performing Smoothing\n",
      "INFO:epimodel.pymc3_models.cm_effect.datapreprocessor:Skipping smoothing Albania\n",
      "INFO:epimodel.pymc3_models.cm_effect.datapreprocessor:Skipping smoothing Andorra\n",
      "INFO:epimodel.pymc3_models.cm_effect.datapreprocessor:Skipping smoothing Estonia\n",
      "INFO:epimodel.pymc3_models.cm_effect.datapreprocessor:Skipping smoothing Iceland\n",
      "INFO:epimodel.pymc3_models.cm_effect.datapreprocessor:Skipping smoothing Latvia\n",
      "INFO:epimodel.pymc3_models.cm_effect.datapreprocessor:Skipping smoothing Lithuania\n",
      "INFO:epimodel.pymc3_models.cm_effect.datapreprocessor:Skipping smoothing New Zealand\n",
      "INFO:epimodel.pymc3_models.cm_effect.datapreprocessor:Skipping smoothing Singapore\n",
      "INFO:epimodel.pymc3_models.cm_effect.datapreprocessor:Skipping smoothing Slovakia\n",
      "INFO:epimodel.pymc3_models.cm_effect.datapreprocessor:Performing Masking\n"
     ]
    }
   ],
   "source": [
    "dp = DataPreprocessor(drop_HS=True)\n",
    "data = dp.preprocess_data(\"../final_data/data_final.csv\")"
   ]
  },
  {
   "cell_type": "code",
   "execution_count": null,
   "metadata": {},
   "outputs": [],
   "source": [
    "def calc_trace_statistic(model, stat_type):\n",
    "    if stat_type=='rhat':\n",
    "        stat = az.rhat(model.trace)\n",
    "    if stat_type=='ess':\n",
    "        stat = az.ess(model.trace, relative=True)\n",
    "    stat_all = []\n",
    "    stat_nums = []\n",
    "    print(model.vars)\n",
    "    for i in range(len(model.vars)):\n",
    "        var = model.vars[i]\n",
    "        if str(var)[-6:-1]=='_log_':\n",
    "            var = str(var)[0:-6]\n",
    "        if stat[str(var)].size>1:\n",
    "            stat_all.append(stat[str(var)].to_dataframe().to_numpy().flatten())\n",
    "        else:\n",
    "            stat_nums.append(float(stat[str(var)]))\n",
    "    stat_all = np.concatenate(np.array(stat_all))\n",
    "    stat_all = np.concatenate([stat_all, stat_nums])\n",
    "    return stat_all"
   ]
  },
  {
   "cell_type": "markdown",
   "metadata": {},
   "source": [
    "### Build and run models\n",
    "\n",
    "Calculate and save the r-hat and ess values for each random variable"
   ]
  },
  {
   "cell_type": "code",
   "execution_count": 4,
   "metadata": {},
   "outputs": [],
   "source": [
    "model_types = ['combined', 'active', 'death']"
   ]
  },
  {
   "cell_type": "code",
   "execution_count": null,
   "metadata": {},
   "outputs": [],
   "source": [
    "for model_type in model_types:\n",
    "    print('Model: ' + str(model_type))\n",
    "    if model_type=='combined':\n",
    "        with cm_effect.models.CMCombined_Final(data) as model:\n",
    "            model.build_model()  \n",
    "    if model_type=='active':\n",
    "        with cm_effect.models.CMActive_Final(data) as model:\n",
    "            model.build_model()  \n",
    "    if model_type=='death':\n",
    "        with cm_effect.models.CMDeath_Final(data) as model:\n",
    "            model.build_model()                      \n",
    "\n",
    "    model.run(1000, chains=8, cores=8)\n",
    "    rhats = calc_trace_statistic(model,'rhat')\n",
    "    ess = calc_trace_statistic(model,'ess')\n",
    "    \n",
    "    np.savetxt('out_final/rhats_'+ model_type + '.txt',rhats)\n",
    "    np.savetxt('out_final/ess_'+ model_type + '.txt',ess)\n",
    "    filename = 'out_final/default_' + model_type + '.txt'\n",
    "    cm_trace = model.trace[\"CMReduction\"]\n",
    "    np.savetxt(filename, cm_trace)"
   ]
  },
  {
   "cell_type": "markdown",
   "metadata": {},
   "source": [
    "### Plotting"
   ]
  },
  {
   "cell_type": "code",
   "execution_count": 5,
   "metadata": {},
   "outputs": [],
   "source": [
    "def plot_histogram_model_stat(stat_list, labels, colors, fontsize=12, bin_nums=[None, None, None]):\n",
    "    plt.figure()\n",
    "    for i in range(len(stat_list)):\n",
    "        sns.distplot(stat_list[i], kde=False, hist_kws={\"alpha\": 0.5}, label = labels[i], \n",
    "                     color=colors[i], bins=bin_nums[i])\n",
    "        plt.ylabel('Count')\n",
    "        sns.despine()\n",
    "        plt.tight_layout()\n",
    "        plt.rc('font', size=fontsize)\n",
    "        plt.legend(frameon=False)\n",
    "    plt.tight_layout()"
   ]
  },
  {
   "cell_type": "code",
   "execution_count": 6,
   "metadata": {},
   "outputs": [],
   "source": [
    "labels = ['Deaths','Active Cases','Combined']\n",
    "colors = ['tab:red', 'tab:blue', 'tab:purple']"
   ]
  },
  {
   "cell_type": "markdown",
   "metadata": {},
   "source": [
    "##### plot rhat"
   ]
  },
  {
   "cell_type": "code",
   "execution_count": 7,
   "metadata": {},
   "outputs": [
    {
     "ename": "OSError",
     "evalue": "out_final/rhats_deaths.txt not found.",
     "output_type": "error",
     "traceback": [
      "\u001b[0;31m---------------------------------------------------------------------------\u001b[0m",
      "\u001b[0;31mOSError\u001b[0m                                   Traceback (most recent call last)",
      "\u001b[0;32m<ipython-input-7-7a89e3c6c7a6>\u001b[0m in \u001b[0;36m<module>\u001b[0;34m\u001b[0m\n\u001b[0;32m----> 1\u001b[0;31m \u001b[0mrhats_deaths\u001b[0m\u001b[0;34m=\u001b[0m \u001b[0mnp\u001b[0m\u001b[0;34m.\u001b[0m\u001b[0mloadtxt\u001b[0m\u001b[0;34m(\u001b[0m\u001b[0;34m'out_final/rhats_deaths.txt'\u001b[0m\u001b[0;34m)\u001b[0m\u001b[0;34m\u001b[0m\u001b[0;34m\u001b[0m\u001b[0m\n\u001b[0m\u001b[1;32m      2\u001b[0m \u001b[0mrhats_active\u001b[0m\u001b[0;34m=\u001b[0m \u001b[0mnp\u001b[0m\u001b[0;34m.\u001b[0m\u001b[0mloadtxt\u001b[0m\u001b[0;34m(\u001b[0m\u001b[0;34m'out_final/rhats_active.txt'\u001b[0m\u001b[0;34m)\u001b[0m\u001b[0;34m\u001b[0m\u001b[0;34m\u001b[0m\u001b[0m\n\u001b[1;32m      3\u001b[0m \u001b[0mrhats_combined\u001b[0m\u001b[0;34m=\u001b[0m \u001b[0mnp\u001b[0m\u001b[0;34m.\u001b[0m\u001b[0mloadtxt\u001b[0m\u001b[0;34m(\u001b[0m\u001b[0;34m'out_final/rhats_combined.txt'\u001b[0m\u001b[0;34m)\u001b[0m\u001b[0;34m\u001b[0m\u001b[0;34m\u001b[0m\u001b[0m\n\u001b[1;32m      4\u001b[0m \u001b[0;34m\u001b[0m\u001b[0m\n\u001b[1;32m      5\u001b[0m \u001b[0mplot_histogram_model_stat\u001b[0m\u001b[0;34m(\u001b[0m\u001b[0;34m[\u001b[0m\u001b[0mrhats_deaths\u001b[0m\u001b[0;34m,\u001b[0m \u001b[0mrhats_active\u001b[0m \u001b[0;34m,\u001b[0m \u001b[0mrhats_combined\u001b[0m\u001b[0;34m]\u001b[0m\u001b[0;34m,\u001b[0m \u001b[0mlabels\u001b[0m\u001b[0;34m,\u001b[0m \u001b[0mcolors\u001b[0m\u001b[0;34m)\u001b[0m\u001b[0;34m\u001b[0m\u001b[0;34m\u001b[0m\u001b[0m\n",
      "\u001b[0;32m~/anaconda/envs/py38/lib/python3.8/site-packages/numpy/lib/npyio.py\u001b[0m in \u001b[0;36mloadtxt\u001b[0;34m(fname, dtype, comments, delimiter, converters, skiprows, usecols, unpack, ndmin, encoding, max_rows)\u001b[0m\n\u001b[1;32m    979\u001b[0m             \u001b[0mfname\u001b[0m \u001b[0;34m=\u001b[0m \u001b[0mos_fspath\u001b[0m\u001b[0;34m(\u001b[0m\u001b[0mfname\u001b[0m\u001b[0;34m)\u001b[0m\u001b[0;34m\u001b[0m\u001b[0;34m\u001b[0m\u001b[0m\n\u001b[1;32m    980\u001b[0m         \u001b[0;32mif\u001b[0m \u001b[0m_is_string_like\u001b[0m\u001b[0;34m(\u001b[0m\u001b[0mfname\u001b[0m\u001b[0;34m)\u001b[0m\u001b[0;34m:\u001b[0m\u001b[0;34m\u001b[0m\u001b[0;34m\u001b[0m\u001b[0m\n\u001b[0;32m--> 981\u001b[0;31m             \u001b[0mfh\u001b[0m \u001b[0;34m=\u001b[0m \u001b[0mnp\u001b[0m\u001b[0;34m.\u001b[0m\u001b[0mlib\u001b[0m\u001b[0;34m.\u001b[0m\u001b[0m_datasource\u001b[0m\u001b[0;34m.\u001b[0m\u001b[0mopen\u001b[0m\u001b[0;34m(\u001b[0m\u001b[0mfname\u001b[0m\u001b[0;34m,\u001b[0m \u001b[0;34m'rt'\u001b[0m\u001b[0;34m,\u001b[0m \u001b[0mencoding\u001b[0m\u001b[0;34m=\u001b[0m\u001b[0mencoding\u001b[0m\u001b[0;34m)\u001b[0m\u001b[0;34m\u001b[0m\u001b[0;34m\u001b[0m\u001b[0m\n\u001b[0m\u001b[1;32m    982\u001b[0m             \u001b[0mfencoding\u001b[0m \u001b[0;34m=\u001b[0m \u001b[0mgetattr\u001b[0m\u001b[0;34m(\u001b[0m\u001b[0mfh\u001b[0m\u001b[0;34m,\u001b[0m \u001b[0;34m'encoding'\u001b[0m\u001b[0;34m,\u001b[0m \u001b[0;34m'latin1'\u001b[0m\u001b[0;34m)\u001b[0m\u001b[0;34m\u001b[0m\u001b[0;34m\u001b[0m\u001b[0m\n\u001b[1;32m    983\u001b[0m             \u001b[0mfh\u001b[0m \u001b[0;34m=\u001b[0m \u001b[0miter\u001b[0m\u001b[0;34m(\u001b[0m\u001b[0mfh\u001b[0m\u001b[0;34m)\u001b[0m\u001b[0;34m\u001b[0m\u001b[0;34m\u001b[0m\u001b[0m\n",
      "\u001b[0;32m~/anaconda/envs/py38/lib/python3.8/site-packages/numpy/lib/_datasource.py\u001b[0m in \u001b[0;36mopen\u001b[0;34m(path, mode, destpath, encoding, newline)\u001b[0m\n\u001b[1;32m    267\u001b[0m \u001b[0;34m\u001b[0m\u001b[0m\n\u001b[1;32m    268\u001b[0m     \u001b[0mds\u001b[0m \u001b[0;34m=\u001b[0m \u001b[0mDataSource\u001b[0m\u001b[0;34m(\u001b[0m\u001b[0mdestpath\u001b[0m\u001b[0;34m)\u001b[0m\u001b[0;34m\u001b[0m\u001b[0;34m\u001b[0m\u001b[0m\n\u001b[0;32m--> 269\u001b[0;31m     \u001b[0;32mreturn\u001b[0m \u001b[0mds\u001b[0m\u001b[0;34m.\u001b[0m\u001b[0mopen\u001b[0m\u001b[0;34m(\u001b[0m\u001b[0mpath\u001b[0m\u001b[0;34m,\u001b[0m \u001b[0mmode\u001b[0m\u001b[0;34m,\u001b[0m \u001b[0mencoding\u001b[0m\u001b[0;34m=\u001b[0m\u001b[0mencoding\u001b[0m\u001b[0;34m,\u001b[0m \u001b[0mnewline\u001b[0m\u001b[0;34m=\u001b[0m\u001b[0mnewline\u001b[0m\u001b[0;34m)\u001b[0m\u001b[0;34m\u001b[0m\u001b[0;34m\u001b[0m\u001b[0m\n\u001b[0m\u001b[1;32m    270\u001b[0m \u001b[0;34m\u001b[0m\u001b[0m\n\u001b[1;32m    271\u001b[0m \u001b[0;34m\u001b[0m\u001b[0m\n",
      "\u001b[0;32m~/anaconda/envs/py38/lib/python3.8/site-packages/numpy/lib/_datasource.py\u001b[0m in \u001b[0;36mopen\u001b[0;34m(self, path, mode, encoding, newline)\u001b[0m\n\u001b[1;32m    621\u001b[0m                                       encoding=encoding, newline=newline)\n\u001b[1;32m    622\u001b[0m         \u001b[0;32melse\u001b[0m\u001b[0;34m:\u001b[0m\u001b[0;34m\u001b[0m\u001b[0;34m\u001b[0m\u001b[0m\n\u001b[0;32m--> 623\u001b[0;31m             \u001b[0;32mraise\u001b[0m \u001b[0mIOError\u001b[0m\u001b[0;34m(\u001b[0m\u001b[0;34m\"%s not found.\"\u001b[0m \u001b[0;34m%\u001b[0m \u001b[0mpath\u001b[0m\u001b[0;34m)\u001b[0m\u001b[0;34m\u001b[0m\u001b[0;34m\u001b[0m\u001b[0m\n\u001b[0m\u001b[1;32m    624\u001b[0m \u001b[0;34m\u001b[0m\u001b[0m\n\u001b[1;32m    625\u001b[0m \u001b[0;34m\u001b[0m\u001b[0m\n",
      "\u001b[0;31mOSError\u001b[0m: out_final/rhats_deaths.txt not found."
     ]
    }
   ],
   "source": [
    "rhats_deaths= np.loadtxt('out_final/rhats_deaths.txt')\n",
    "rhats_active= np.loadtxt('out_final/rhats_active.txt')\n",
    "rhats_combined= np.loadtxt('out_final/rhats_combined.txt')\n",
    "    \n",
    "plot_histogram_model_stat([rhats_deaths, rhats_active , rhats_combined], labels, colors)\n",
    "plt.xlabel('R-hat Statistic')\n",
    "plt.xlim([0.999, 1.045])\n",
    "plt.savefig('out_final/rhat_dist_all.pdf')"
   ]
  },
  {
   "cell_type": "markdown",
   "metadata": {},
   "source": [
    "##### plot ess"
   ]
  },
  {
   "cell_type": "code",
   "execution_count": 64,
   "metadata": {},
   "outputs": [
    {
     "data": {
      "image/png": "[encoded data removed]",
      "text/plain": [
       "<Figure size 432x288 with 1 Axes>"
      ]
     },
     "metadata": {
      "needs_background": "light"
     },
     "output_type": "display_data"
    }
   ],
   "source": [
    "ess_deaths= np.loadtxt('out_final/ess_deaths.txt')\n",
    "ess_active= np.loadtxt('out_final/ess_active.txt')\n",
    "ess_combined= np.loadtxt('out_final/ess_combined.txt')\n",
    "\n",
    "plot_histogram_model_stat([ess_deaths,ess_active,ess_combined], labels, colors)\n",
    "plt.xlabel('Relative Effective Sample Size')\n",
    "plt.tight_layout()\n",
    "plt.savefig('out_final/ess_dist_all.pdf')"
   ]
  },
  {
   "cell_type": "code",
   "execution_count": null,
   "metadata": {},
   "outputs": [],
   "source": []
  }
 ],
 "metadata": {
  "kernelspec": {
   "display_name": "Python 3",
   "language": "python",
   "name": "python3"
  },
  "language_info": {
   "codemirror_mode": {
    "name": "ipython",
    "version": 3
   },
   "file_extension": ".py",
   "mimetype": "text/x-python",
   "name": "python",
   "nbconvert_exporter": "python",
   "pygments_lexer": "ipython3",
   "version": "3.8.2"
  }
 },
 "nbformat": 4,
 "nbformat_minor": 4
}
